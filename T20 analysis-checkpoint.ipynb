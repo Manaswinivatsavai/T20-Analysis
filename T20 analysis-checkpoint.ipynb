{
 "cells": [
  {
   "cell_type": "code",
   "execution_count": 1,
   "id": "beeb969a-ca59-4156-9b17-43152613f7e6",
   "metadata": {},
   "outputs": [],
   "source": [
    "import pandas as pd\n",
    "import numpy as np"
   ]
  },
  {
   "cell_type": "code",
   "execution_count": 229,
   "id": "77c680ff-386c-44ed-a0bc-9486efce8f2f",
   "metadata": {},
   "outputs": [],
   "source": [
    "df=pd.read_csv(\"C:\\\\Users\\\\manas\\\\Downloads\\\\archive.zip\")\n"
   ]
  },
  {
   "cell_type": "code",
   "execution_count": 228,
   "id": "7be2796d-d1b1-4e4b-a71e-39a94ff8bfcc",
   "metadata": {},
   "outputs": [
    {
     "name": "stdout",
     "output_type": "stream",
     "text": [
      "__________________________________________________\n",
      "\t\tWINNING PERCENTAGES\n",
      "__________________________________________________\n",
      "India                      88.89\n",
      "South Africa               88.89\n",
      "Australia                  71.43\n",
      "Afghanistan                66.67\n",
      "West Indies                66.67\n",
      "England                    50.00\n",
      "New Zealand                50.00\n",
      "Pakistan                   50.00\n",
      "Scotland                   50.00\n",
      "Bangladesh                 42.86\n",
      "United State Of America    28.57\n",
      "Canada                     25.00\n",
      "Namibia                    25.00\n",
      "Netherlands                25.00\n",
      "Sri Lanka                  25.00\n",
      "Uganda                     25.00\n",
      "Ireland                     0.00\n",
      "Nepal                       0.00\n",
      "Oman                        0.00\n",
      "Papua New Guinea            0.00\n",
      "Rain                        0.00\n",
      "Name: count, dtype: float64\n",
      "__________________________________________________\n",
      "\tMaximum Winning Percentage\n",
      "__________________________________________________\n",
      "India          :88.89%\n",
      "South Africa   :88.89%\n",
      "__________________________________________________\n"
     ]
    }
   ],
   "source": [
    "#Which team has the highest win percentage overall in T20 World Cups?\n",
    "#Win % = (Total Wins / Total Matches Played) × 100\n",
    "wins=df[\"Winners\"].value_counts()\n",
    "matches=pd.concat([df[\"1st Team\"],df[\"2nd Team\"]]).value_counts()\n",
    "print(\"_\"*50)\n",
    "win_percent=(round((wins/matches)*100,2).sort_values(ascending=False)).fillna(0)\n",
    "print(\"\\t\\tWINNING PERCENTAGES\")\n",
    "print(\"_\"*50)\n",
    "print(f\"{win_percent}\")\n",
    "print(\"_\"*50)\n",
    "print(\"\\tMaximum Winning Percentage\")\n",
    "print(\"_\"*50)\n",
    "\n",
    "win_teams=list(win_percent[win_percent==win_percent.max()])\n",
    "win_team=list(win_percent[win_percent==win_percent.max()].index)\n",
    "for f in win_team:\n",
    "    print(f\"{f:<15}:{win_percent.loc[f]}%\")\n",
    "print(\"_\"*50)\n"
   ]
  },
  {
   "cell_type": "code",
   "execution_count": 279,
   "id": "74b2247f-cac8-4e55-a2c5-0f50f93b2d26",
   "metadata": {},
   "outputs": [
    {
     "name": "stdout",
     "output_type": "stream",
     "text": [
      "Batting First is more successful with 26 Wins\n",
      "__________________________________________________\n",
      "\t\tTeams Won By Wickets(CHASING)\n",
      "__________________________________________________\n",
      "Winners\n",
      "South Africa               4\n",
      "England                    3\n",
      "Afghanistan                2\n",
      "India                      2\n",
      "Scotland                   2\n",
      "Pakistan                   2\n",
      "Australia                  2\n",
      "New Zealand                2\n",
      "United State Of America    1\n",
      "Namibia                    1\n",
      "Netherlands                1\n",
      "Uganda                     1\n",
      "Bangladesh                 1\n",
      "West Indies                1\n",
      "Name: count, dtype: int64\n",
      "__________________________________________________\n",
      "\t\tTeams Won By Runs(BATTING)\n",
      "__________________________________________________\n",
      "Winners\n",
      "India                      6\n",
      "Afghanistan                4\n",
      "South Africa               4\n",
      "Australia                  3\n",
      "West Indies                3\n",
      "Bangladesh                 2\n",
      "United State Of America    1\n",
      "Canada                     1\n",
      "England                    1\n",
      "Sri Lanka                  1\n",
      "Name: count, dtype: int64\n",
      "__________________________________________________\n"
     ]
    }
   ],
   "source": [
    "#Is batting first or chasing more successful in T20 World Cups?\n",
    "bc=df[\"Won by\"]\n",
    "bat_chase=bc[~(bc==\"Rain\")]\n",
    "wick=bat_chase[bat_chase==\"Wickets\"].count()\n",
    "runs=bat_chase[bat_chase==\"Runs\"].count()\n",
    "batcha=f\"Batting First is more successful with {runs} Wins\" if runs>wick else f\"Chasing First is more successful wint {wicks} Wins\"\n",
    "print(batcha)\n",
    "print(\"_\"*50)\n",
    "print(\"\\t\\tTeams Won By Wickets(CHASING)\")\n",
    "print(\"_\"*50)\n",
    "print(df.loc[df[\"Won by\"] == \"Wickets\", \"Winners\"].value_counts())\n",
    "print(\"_\"*50)\n",
    "print(\"\\t\\tTeams Won By Runs(BATTING)\")\n",
    "print(\"_\"*50)\n",
    "print(df.loc[df[\"Won by\"] == \"Runs\", \"Winners\"].value_counts())\n",
    "print(\"_\"*50)\n"
   ]
  },
  {
   "cell_type": "code",
   "execution_count": 344,
   "id": "d3814c3c-550c-4c8f-a9ae-a76029dc12ac",
   "metadata": {},
   "outputs": [
    {
     "name": "stdout",
     "output_type": "stream",
     "text": [
      "\t\tTop 10 Players\n",
      "__________________________________________________\n",
      "Aaron Jones          : 94 Runs\n",
      "Rahmanullah Gurbaz   : 76 Runs\n",
      "Marcus Stoinis       : 67 Runs\n",
      "Max O'Dowd           : 54 Runs\n",
      "Rohit Sharma         : 52 Runs\n",
      "Monank Patel         : 50 Runs\n",
      "Gulbadin Naib        : 49 Runs\n",
      "Jan Frylinck         : 45 Runs\n",
      "Riazat Ali Shah      : 33 Runs\n",
      "Quinton de Kock      : 20 Runs\n",
      "__________________________________________________\n"
     ]
    }
   ],
   "source": [
    "#Who are the top 10 run-scorers in all T20 World Cups?\n",
    "Top10=df[\"Top Scorer\"]\n",
    "print(\"\\t\\tTop 10 Players\")\n",
    "print(\"_\"*50)\n",
    "df.loc[~(df[\"Highest Score\"]==\"Rain\"),\"Highest Score\"].head(10)\n",
    "for ind in df.loc[~(df[\"Highest Score\"]==\"Rain\"),\"Highest Score\"].head(10).sort_values(ascending=False).index:\n",
    "    print(f\"{df.loc[ind,\"Top Scorer\"]:<20} : {df.loc[ind,\"Highest Score\"]} Runs\")\n",
    "print(\"_\"*50)\n",
    "\n"
   ]
  },
  {
   "cell_type": "code",
   "execution_count": 391,
   "id": "75e00f9c-a6c3-42dc-af69-d83d3e868a52",
   "metadata": {},
   "outputs": [
    {
     "name": "stdout",
     "output_type": "stream",
     "text": [
      "________________________________________________________________________________\n",
      "\t\tAverage First-Innings Scores By Venue\n",
      "________________________________________________________________________________\n",
      "Venue                : Arnos Vale Ground, Kingstown, St Vincent\n",
      "Avg 1st Innings Score: 128.6\n",
      "________________________________________________________________________________\n",
      "Venue                : Brian Lara Stadium, Tarouba, Trinidad\n",
      "Avg 1st Innings Score: 83.6\n",
      "________________________________________________________________________________\n",
      "Venue                : Central Broward Regional Park Stadium Turf Ground, Lauderhill\n",
      "Avg 1st Innings Score: 106.0\n",
      "________________________________________________________________________________\n",
      "Venue                : Daren Sammy National Cricket Stadium, Gros Islet, St Lucia\n",
      "Avg 1st Innings Score: 191.16666666666666\n",
      "________________________________________________________________________________\n",
      "Venue                : Grand Prairie Stadium, Dallas\n",
      "Avg 1st Innings Score: 145.75\n",
      "________________________________________________________________________________\n",
      "Venue                : Kensington Oval, Bridgetown, Barbados\n",
      "Avg 1st Innings Score: 146.55555555555554\n",
      "________________________________________________________________________________\n",
      "Venue                : Nassau County International Cricket Stadium, New York\n",
      "Avg 1st Innings Score: 107.625\n",
      "________________________________________________________________________________\n",
      "Venue                : Providence Stadium, Guyana\n",
      "Avg 1st Innings Score: 138.0\n",
      "________________________________________________________________________________\n",
      "Venue                : Sir Vivian Richards Stadium, North Sound, Antigua\n",
      "Avg 1st Innings Score: 132.0\n"
     ]
    }
   ],
   "source": [
    "\n",
    "df[\"First Innings Score\"] = pd.to_numeric(df[\"First Innings Score\"], errors='coerce')\n",
    "first=df.groupby(\"Venue\")[\"First Innings Score\"]\n",
    "print(\"_\"*80)\n",
    "print(\"\\t\\tAverage First-Innings Scores By Venue\")\n",
    "for f,i in first:\n",
    "    print(\"_\"*80)\n",
    "    print(\"Venue                :\",f)\n",
    "    print(\"Avg 1st Innings Score:\",i.mean())\n",
    "    \n",
    "   "
   ]
  },
  {
   "cell_type": "code",
   "execution_count": 456,
   "id": "0789765f-315b-42dd-9509-1cc744ff8cef",
   "metadata": {},
   "outputs": [
    {
     "name": "stdout",
     "output_type": "stream",
     "text": [
      "__________________________________________________\n",
      "\t\tTop 10 Wicket-Takers\n",
      "__________________________________________________\n",
      "Nosthush Kenjige     : 30.0\n",
      "Alpesh Ramjani       : 17.0\n",
      "Rashid Khan          : 11.0\n",
      "Fazalhaq Farooqi     : 11.0\n",
      "Arshdeep Singh       : 7.0\n",
      "Adil Rashid          : 7.0\n",
      "Tanzim Hasan Sakib   : 7.0\n",
      "Tabraiz Shamsi       : 7.0\n",
      "Adam Zampa           : 6.0\n",
      "Akeal Hosein         : 5.0\n"
     ]
    }
   ],
   "source": [
    "df[\"Best Bowler Figure(Wickets Taken)\"] = pd.to_numeric(df[\"Best Bowler Figure(Wickets Taken)\"], errors='coerce')\n",
    "best=df.groupby(\"Best Bowler\")[\"Best Bowler Figure(Wickets Taken)\"].sum().sort_values(ascending=False).head(10)\n",
    "print(\"_\"*50)\n",
    "\n",
    "print(\"\\t\\tTop 10 Wicket-Takers\")\n",
    "print(\"_\"*50)\n",
    "for be,bo in best.items():\n",
    "    print(f\"{be:<20} : {bo}\")\n"
   ]
  },
  {
   "cell_type": "code",
   "execution_count": null,
   "id": "c0dcbeda-830b-4a80-af28-60c6e7466761",
   "metadata": {},
   "outputs": [],
   "source": []
  }
 ],
 "metadata": {
  "kernelspec": {
   "display_name": "Python 3 (ipykernel)",
   "language": "python",
   "name": "python3"
  },
  "language_info": {
   "codemirror_mode": {
    "name": "ipython",
    "version": 3
   },
   "file_extension": ".py",
   "mimetype": "text/x-python",
   "name": "python",
   "nbconvert_exporter": "python",
   "pygments_lexer": "ipython3",
   "version": "3.12.7"
  }
 },
 "nbformat": 4,
 "nbformat_minor": 5
}
